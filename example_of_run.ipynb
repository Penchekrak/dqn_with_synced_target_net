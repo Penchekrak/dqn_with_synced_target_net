{
  "nbformat": 4,
  "nbformat_minor": 0,
  "metadata": {
    "colab": {
      "name": "example_of_run.ipynb",
      "provenance": [],
      "collapsed_sections": []
    },
    "kernelspec": {
      "name": "python3",
      "display_name": "Python 3"
    },
    "language_info": {
      "name": "python"
    },
    "accelerator": "GPU"
  },
  "cells": [
    {
      "cell_type": "code",
      "execution_count": null,
      "metadata": {
        "id": "Bzv7c3_kgbfo"
      },
      "outputs": [],
      "source": [
        "!git clone https://github.com/Penchekrak/dqn_with_synced_target_net.git\n",
        "%cd /content/dqn_with_synced_target_net/\n",
        "!pip install -r requirements.txt"
      ]
    },
    {
      "cell_type": "code",
      "source": [
        "import wandb\n",
        "import os\n",
        "os.environ['HYDRA_FULL_ERROR'] = '1'\n",
        "\n",
        "%cd /content/dqn_with_synced_target_net\n",
        "%run main.py --config-name demonattack_dueling_dqn_medium_cnn_gpu.yaml"
      ],
      "metadata": {
        "id": "_wuqtkOPg6LH"
      },
      "execution_count": null,
      "outputs": []
    },
    {
      "cell_type": "code",
      "source": [
        ""
      ],
      "metadata": {
        "id": "h0ZYRe89yKhX"
      },
      "execution_count": null,
      "outputs": []
    }
  ]
}